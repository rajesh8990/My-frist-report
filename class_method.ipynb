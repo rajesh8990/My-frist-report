{
 "cells": [
  {
   "cell_type": "code",
   "execution_count": 3,
   "id": "61612a2f-060d-4a9a-a8bd-8f39d3791b6d",
   "metadata": {},
   "outputs": [],
   "source": [
    "class pwskills1:\n",
    "    def __init__(self,name,email):\n",
    "        self.name=name\n",
    "        self.email=email\n",
    "    def student_detail(self):\n",
    "        print(self.name,self.email)"
   ]
  },
  {
   "cell_type": "code",
   "execution_count": 4,
   "id": "6ca87a7d-0ba2-499a-ad02-15518d1084ed",
   "metadata": {},
   "outputs": [],
   "source": [
    "#creat object\n",
    "p1=pwskills1('rajesh','pppintumurya@433gmail.com')"
   ]
  },
  {
   "cell_type": "code",
   "execution_count": 5,
   "id": "d32e9cba-481a-41fa-8125-d27d7e098d6c",
   "metadata": {},
   "outputs": [
    {
     "data": {
      "text/plain": [
       "'rajesh'"
      ]
     },
     "execution_count": 5,
     "metadata": {},
     "output_type": "execute_result"
    }
   ],
   "source": [
    "p1.name"
   ]
  },
  {
   "cell_type": "code",
   "execution_count": 7,
   "id": "14ecdcac-b0bf-4c72-8ebe-3046047f751c",
   "metadata": {},
   "outputs": [
    {
     "data": {
      "text/plain": [
       "'pppintumurya@433gmail.com'"
      ]
     },
     "execution_count": 7,
     "metadata": {},
     "output_type": "execute_result"
    }
   ],
   "source": [
    "p1.email"
   ]
  },
  {
   "cell_type": "code",
   "execution_count": 33,
   "id": "83f195d4-5bc5-46d1-a8ed-11944e01081e",
   "metadata": {},
   "outputs": [],
   "source": [
    "class pwskills2:\n",
    "    def __init__(self,name,email):\n",
    "        self.name=name\n",
    "        self.email=email\n",
    "    #decoratores function    \n",
    "    @classmethod\n",
    "        \n",
    "    def detail(cls,name,email):\n",
    "        \n",
    "        return cls(name,email)\n",
    "        \n",
    "    def student_detail(self):\n",
    "        print(self.name,self.email)"
   ]
  },
  {
   "cell_type": "code",
   "execution_count": 34,
   "id": "bab41735-bd50-4a2b-bceb-6a0dad9ce34f",
   "metadata": {},
   "outputs": [],
   "source": [
    "p1=pwskills2.detail('pintu','pintu@gmailcom')"
   ]
  },
  {
   "cell_type": "code",
   "execution_count": 35,
   "id": "80b31d9a-bdbd-4137-97bc-cd3ffac0d9f2",
   "metadata": {},
   "outputs": [
    {
     "data": {
      "text/plain": [
       "'pintu'"
      ]
     },
     "execution_count": 35,
     "metadata": {},
     "output_type": "execute_result"
    }
   ],
   "source": [
    "p1.name"
   ]
  },
  {
   "cell_type": "code",
   "execution_count": 36,
   "id": "bb1023ea-501d-4816-abcc-2d6c50d6a39c",
   "metadata": {},
   "outputs": [
    {
     "data": {
      "text/plain": [
       "'pintu@gmailcom'"
      ]
     },
     "execution_count": 36,
     "metadata": {},
     "output_type": "execute_result"
    }
   ],
   "source": [
    "p1.email"
   ]
  },
  {
   "cell_type": "code",
   "execution_count": 62,
   "id": "734b1efe-d611-4a3f-b783-ec4b5d1d6c43",
   "metadata": {},
   "outputs": [],
   "source": [
    "class pwskills3:\n",
    "    mobile_num=8127896048\n",
    "    def __init__(self,name,email):\n",
    "        self.name=name\n",
    "        self.email=email\n",
    "    @classmethod    \n",
    "    def change_num(cls,mobile):\n",
    "        \n",
    "        pwskills3.mobile_num=mobile\n",
    "    #decoratores function    \n",
    "    @classmethod\n",
    "        \n",
    "    def detail(cls,name,email):\n",
    "        \n",
    "        return cls(name,email)\n",
    "        \n",
    "    def student_detail(self):\n",
    "        print(self.name,self.email)"
   ]
  },
  {
   "cell_type": "code",
   "execution_count": 65,
   "id": "2aa5cb7a-142e-4f3e-a1a3-acdc90cfd4f0",
   "metadata": {},
   "outputs": [],
   "source": [
    "p1=pwskills3('rajesh','pintumaurya@433')"
   ]
  },
  {
   "cell_type": "code",
   "execution_count": 69,
   "id": "85b5aad7-3d7a-4a5c-8298-463e592a1d34",
   "metadata": {},
   "outputs": [],
   "source": [
    "p2=pwskills3.detail('rajesh','pintumaurya433@gmail.com')"
   ]
  },
  {
   "cell_type": "code",
   "execution_count": 71,
   "id": "ab5ea3a5-6302-4219-a29c-3cb1457bd26b",
   "metadata": {},
   "outputs": [
    {
     "name": "stdout",
     "output_type": "stream",
     "text": [
      "rajesh pintumaurya433@gmail.com\n"
     ]
    }
   ],
   "source": [
    "p2.student_detail()"
   ]
  },
  {
   "cell_type": "code",
   "execution_count": 68,
   "id": "82acd6d2-bd37-462c-b0dd-0fadf7c3944e",
   "metadata": {},
   "outputs": [
    {
     "name": "stdout",
     "output_type": "stream",
     "text": [
      "rajesh pintumaurya@433\n"
     ]
    }
   ],
   "source": [
    "p1.student_detail()"
   ]
  },
  {
   "cell_type": "code",
   "execution_count": null,
   "id": "b9655de5-5d3a-470a-9c60-34ca6dabc9e3",
   "metadata": {},
   "outputs": [],
   "source": []
  },
  {
   "cell_type": "code",
   "execution_count": 63,
   "id": "eb97f950-5f5a-429e-920f-1420c3d90b7d",
   "metadata": {},
   "outputs": [],
   "source": [
    "pwskills3.change_num(66666666)"
   ]
  },
  {
   "cell_type": "code",
   "execution_count": 64,
   "id": "3988afb1-7afd-45da-91a7-ede8feb4e771",
   "metadata": {},
   "outputs": [
    {
     "data": {
      "text/plain": [
       "66666666"
      ]
     },
     "execution_count": 64,
     "metadata": {},
     "output_type": "execute_result"
    }
   ],
   "source": [
    "pwskills3.mobile_num"
   ]
  },
  {
   "cell_type": "code",
   "execution_count": null,
   "id": "27c946e2-6452-451f-9f20-d3a10e7b2773",
   "metadata": {},
   "outputs": [],
   "source": []
  },
  {
   "cell_type": "code",
   "execution_count": null,
   "id": "193fe404-17b0-4953-8a0f-c7e668dae6a5",
   "metadata": {},
   "outputs": [],
   "source": []
  }
 ],
 "metadata": {
  "kernelspec": {
   "display_name": "Python 3 (ipykernel)",
   "language": "python",
   "name": "python3"
  },
  "language_info": {
   "codemirror_mode": {
    "name": "ipython",
    "version": 3
   },
   "file_extension": ".py",
   "mimetype": "text/x-python",
   "name": "python",
   "nbconvert_exporter": "python",
   "pygments_lexer": "ipython3",
   "version": "3.10.8"
  }
 },
 "nbformat": 4,
 "nbformat_minor": 5
}
